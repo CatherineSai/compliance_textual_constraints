{
 "cells": [
  {
   "cell_type": "code",
   "execution_count": 5,
   "metadata": {},
   "outputs": [
    {
     "name": "stderr",
     "output_type": "stream",
     "text": [
      "/home/catherinesai/Documents/03_Own_Papers/01_legal_text2text_comparison/project/text2text_CODE/.text2text_python_310_venv/lib64/python3.10/site-packages/tqdm/auto.py:22: TqdmWarning: IProgress not found. Please update jupyter and ipywidgets. See https://ipywidgets.readthedocs.io/en/stable/user_install.html\n",
      "  from .autonotebook import tqdm as notebook_tqdm\n"
     ]
    }
   ],
   "source": [
    "# general imports\n",
    "import os\n",
    "import coreferee\n",
    "import re\n",
    "import spacy\n",
    "import pandas as pd\n",
    "# own path/ class imports\n",
    "from file_paths import *"
   ]
  },
  {
   "cell_type": "code",
   "execution_count": 6,
   "metadata": {},
   "outputs": [],
   "source": [
    "## Application Selection ########################################START\n",
    "# choose method \n",
    "direct_s_bert = True #if True --> no clustering or other means are implemented, all sentences are comapred with each other via S-Bert\n",
    "legal_s_bert = False #if True --> implementation like S-BERT but based on legal BERT instead of BERT\n",
    "clustering = False #if True --> 2 approaches calculated: a) topic model + word2vec + cosine sim; b) bert embeddings + kmeans and word2vev + cosine sim\n",
    "key_phrase = False # if True --> setp one is performed on only key phrases (identified by tfidf), instead of whole sentences\n",
    "# choose case study\n",
    "### GDPR adjusted, ISO not!\n",
    "iso = False #if False --> running with gdpr setup\n",
    "# choose set up\n",
    "rea_only_signal = False #if False --> gdpr realization input is not filtered to contain only sentences with signalwords\n",
    "# choose thresholds:\n",
    "gamma_s_bert = 0.7 #0.67 #used for sentence mapping \n",
    "gamma_grouping = 0.9 #used for sentence mapping in k-means & topic Model approach\n",
    "gamma_key_phrase = 0.92 #used for key phrase extraction\n",
    "gamma_one = 0.26 #used for subject phrase mapping\n",
    "gamma_two = 0.23 #used for verb phrase mapping\n",
    "gamma_three = 0.2 #used for object phrase mapping\n",
    "################################################################# END"
   ]
  },
  {
   "cell_type": "code",
   "execution_count": 7,
   "metadata": {},
   "outputs": [
    {
     "data": {
      "text/plain": [
       "<coreferee.manager.CorefereeBroker at 0x7fb5f1df7fd0>"
      ]
     },
     "execution_count": 7,
     "metadata": {},
     "output_type": "execute_result"
    }
   ],
   "source": [
    "# Create the nlp object\n",
    "nlp = spacy.load('en_core_web_trf')\n",
    "nlp.add_pipe('coreferee', config={}) # resolves coreferences"
   ]
  },
  {
   "cell_type": "code",
   "execution_count": 8,
   "metadata": {},
   "outputs": [],
   "source": [
    "## parse defined lists of constraint signalwords, sequencemarkers and stopwords ########################### START\n",
    "def read_defined_lists(directory): \n",
    "  '''reads in defined txts of constraint signalwords, sequencemarkers and stopwords as lists\n",
    "  Input: .txt\n",
    "  Output: list'''\n",
    "  try:\n",
    "    with open(directory) as f:\n",
    "      defined_list = f.read().splitlines()\n",
    "  except FileNotFoundError:\n",
    "      print(\"Wrong file or file path.\")\n",
    "      quit()\n",
    "  return defined_list\n",
    "\n",
    "if iso:\n",
    "  signalwords = read_defined_lists(ISO_SIGNALWORDS)\n",
    "  ISMS_words = read_defined_lists(ISO_REA_SPEZIFICATION1)\n",
    "  top_management_words = read_defined_lists(ISO_REA_SPEZIFICATION2)\n",
    "else:\n",
    "  signalwords = read_defined_lists(GDPR_SIGNALWORDS)\n",
    "  controller_words = read_defined_lists(GDPR_REA_SPEZIFICATION1)\n",
    "  data_protection_officer_words = read_defined_lists(GDPR_REA_SPEZIFICATION2)\n",
    "  management_words = read_defined_lists(GDPR_REA_SPEZIFICATION3)\n",
    "\n",
    "################################################################# END"
   ]
  },
  {
   "cell_type": "code",
   "execution_count": 9,
   "metadata": {},
   "outputs": [],
   "source": [
    "\n",
    "## parse documents ############################################ START\n",
    "def read_documents(directory): \n",
    "  '''reads in txts of regulatory and realization documents\n",
    "  Input: multiple .txt (each a document article)\n",
    "  Output: dictionary with article name as key and article text as value'''\n",
    "  doc_dict = dict()\n",
    "  files = os.listdir(directory)\n",
    "  try:\n",
    "    for fi in files:\n",
    "        if fi.endswith('.txt'):\n",
    "          with open(directory+'/'+fi,'r') as f:\n",
    "              doc_dict[re.sub('\\.txt', '', fi)] = f.read()\n",
    "  except FileNotFoundError:\n",
    "    print(\"Wrong file or file path to dir.\")\n",
    "    quit()\n",
    "  return doc_dict\n",
    "\n",
    "# reading the raw .txt text\n",
    "if iso:\n",
    "  reg_paragraphs = read_documents(ISO_REGULATION_INPUT_DIRECTORY) \n",
    "  rea_paragraphs = read_documents(ISO_REALIZATION_INPUT_DIRECTORY) \n",
    "\n",
    "else: \n",
    "  reg_paragraphs = read_documents(GDPR_REGULATION_INPUT_DIRECTORY) \n",
    "  rea_paragraphs = read_documents(GDPR_REALIZATION_INPUT_DIRECTORY) \n",
    "################################################################# END"
   ]
  },
  {
   "cell_type": "code",
   "execution_count": 10,
   "metadata": {},
   "outputs": [],
   "source": [
    "df = pd.DataFrame(reg_paragraphs.items(), columns=['reg_title', 'reg_text'])"
   ]
  },
  {
   "cell_type": "code",
   "execution_count": 11,
   "metadata": {},
   "outputs": [],
   "source": [
    "def apply_coreference_resolution(text):\n",
    "    doc = nlp(text)\n",
    "    # split text in tokens\n",
    "    list_tokens = list(token.text_with_ws for token in doc)\n",
    "    for index, _ in enumerate(list_tokens):\n",
    "        #check if token an identified coreference token\n",
    "        if None != doc._.coref_chains.resolve(doc[index]):\n",
    "            new_token = \"\"\n",
    "            #extract those tokens that are identified via index by coreferee and replace with best refrence token\n",
    "            for resolved_token in doc._.coref_chains.resolve(doc[index]):\n",
    "                new_token = new_token + resolved_token.text + \" \"\n",
    "                list_tokens[index] = new_token\n",
    "    resolved_text = \"\".join(list_tokens)\n",
    "    return resolved_text"
   ]
  },
  {
   "cell_type": "code",
   "execution_count": 12,
   "metadata": {},
   "outputs": [],
   "source": [
    "df['reg_text_resolved'] = df.apply(lambda row : apply_coreference_resolution(row['reg_text']), axis = 1)"
   ]
  },
  {
   "cell_type": "code",
   "execution_count": 13,
   "metadata": {},
   "outputs": [],
   "source": [
    "pd.options.display.max_colwidth= 2000"
   ]
  },
  {
   "cell_type": "code",
   "execution_count": 14,
   "metadata": {},
   "outputs": [],
   "source": [
    "def clean_text(text):  \n",
    "    '''cleans texts'''\n",
    "    cleaned_text = text.replace(\";\", \".\") #in reg there are many ; which should be counted as seperate senteces\n",
    "    cleaned_text = cleaned_text.replace(\"or\\n\\n\\n\", \"\")\n",
    "    cleaned_text = cleaned_text.replace(\"or\\n\\n\", \"\")\n",
    "    cleaned_text = cleaned_text.replace(\"and\\n\\n\\n\", \"\")\n",
    "    cleaned_text = cleaned_text.replace(\"and\\n\\n\", \"\")\n",
    "    cleaned_text = cleaned_text.replace(\"\\n\\n\\n\", \"\")\n",
    "    cleaned_text = cleaned_text.replace(\"\\n\\n\", \"\")\n",
    "    cleaned_text = cleaned_text.replace(\"\\n \\n\", \"\")\n",
    "    cleaned_text = cleaned_text.replace(\"\\n\", \"\")\n",
    "    return cleaned_text "
   ]
  },
  {
   "cell_type": "code",
   "execution_count": 15,
   "metadata": {},
   "outputs": [],
   "source": [
    "df['reg_text_cleaned'] = df.apply(lambda row : clean_text(row['reg_text_resolved']), axis = 1)"
   ]
  },
  {
   "cell_type": "code",
   "execution_count": 16,
   "metadata": {},
   "outputs": [],
   "source": [
    "df = df.drop(['reg_text_resolved'], axis=1)"
   ]
  },
  {
   "cell_type": "code",
   "execution_count": 17,
   "metadata": {},
   "outputs": [],
   "source": [
    "def ensure_word_embeddings(text):\n",
    "    '''delete words which are not in spacy vocab - would lead to problems later if not done''' \n",
    "    doc = nlp(text) \n",
    "    new_para = text\n",
    "    for token in doc:\n",
    "        if nlp.vocab.has_vector(\"token.text\"):\n",
    "            continue\n",
    "        else:\n",
    "            new_para = new_para.replace(\"token.text\", \"\")\n",
    "    return new_para"
   ]
  },
  {
   "cell_type": "code",
   "execution_count": 18,
   "metadata": {},
   "outputs": [],
   "source": [
    "df['reg_text_cleaned_2'] = df.apply(lambda row : ensure_word_embeddings(row['reg_text_cleaned']), axis = 1)"
   ]
  },
  {
   "cell_type": "code",
   "execution_count": 19,
   "metadata": {},
   "outputs": [],
   "source": [
    "df = df.drop(['reg_text_cleaned'], axis=1)"
   ]
  },
  {
   "cell_type": "code",
   "execution_count": 20,
   "metadata": {},
   "outputs": [],
   "source": [
    "from pandas import Series\n",
    "s = df['reg_text_cleaned_2'].str.split('.').apply(Series, 1).stack()\n",
    "s.index = s.index.droplevel(-1) # to line up with df's index\n",
    "s.name = 'reg_sent' # needs a name to join\n",
    "df_new = df.join(s)"
   ]
  },
  {
   "cell_type": "code",
   "execution_count": 21,
   "metadata": {},
   "outputs": [
    {
     "data": {
      "text/html": [
       "<div>\n",
       "<style scoped>\n",
       "    .dataframe tbody tr th:only-of-type {\n",
       "        vertical-align: middle;\n",
       "    }\n",
       "\n",
       "    .dataframe tbody tr th {\n",
       "        vertical-align: top;\n",
       "    }\n",
       "\n",
       "    .dataframe thead th {\n",
       "        text-align: right;\n",
       "    }\n",
       "</style>\n",
       "<table border=\"1\" class=\"dataframe\">\n",
       "  <thead>\n",
       "    <tr style=\"text-align: right;\">\n",
       "      <th></th>\n",
       "      <th>reg_title</th>\n",
       "      <th>reg_sent</th>\n",
       "    </tr>\n",
       "  </thead>\n",
       "  <tbody>\n",
       "    <tr>\n",
       "      <th>0</th>\n",
       "      <td>Lawfulness of processing</td>\n",
       "      <td>Processing shall be lawful only if and to the extent that the data subject has given consent to the processing of subject or her personal data for one or more specific purposes</td>\n",
       "    </tr>\n",
       "    <tr>\n",
       "      <th>0</th>\n",
       "      <td>Lawfulness of processing</td>\n",
       "      <td>Processing shall be lawful only if and to the extent that processing is necessary for the performance of a contract to which the data subject is party or in order to take steps at the request of the data subject prior to entering into a contract</td>\n",
       "    </tr>\n",
       "    <tr>\n",
       "      <th>0</th>\n",
       "      <td>Lawfulness of processing</td>\n",
       "      <td>Processing shall be lawful only if and to the extent that processing is necessary for compliance with a legal obligation to which the controller is subject</td>\n",
       "    </tr>\n",
       "    <tr>\n",
       "      <th>0</th>\n",
       "      <td>Lawfulness of processing</td>\n",
       "      <td>Processing shall be lawful only if and to the extent that processing is necessary in order to protect the vital interests of the data subject or of another natural person</td>\n",
       "    </tr>\n",
       "    <tr>\n",
       "      <th>0</th>\n",
       "      <td>Lawfulness of processing</td>\n",
       "      <td>Processing shall be lawful only if and to the extent that processing is necessary for the performance of a task carried out in the public interest or in the exercise of official authority vested in the controller</td>\n",
       "    </tr>\n",
       "  </tbody>\n",
       "</table>\n",
       "</div>"
      ],
      "text/plain": [
       "                  reg_title  \\\n",
       "0  Lawfulness of processing   \n",
       "0  Lawfulness of processing   \n",
       "0  Lawfulness of processing   \n",
       "0  Lawfulness of processing   \n",
       "0  Lawfulness of processing   \n",
       "\n",
       "                                                                                                                                                                                                                                                 reg_sent  \n",
       "0                                                                        Processing shall be lawful only if and to the extent that the data subject has given consent to the processing of subject or her personal data for one or more specific purposes  \n",
       "0   Processing shall be lawful only if and to the extent that processing is necessary for the performance of a contract to which the data subject is party or in order to take steps at the request of the data subject prior to entering into a contract  \n",
       "0                                                                                             Processing shall be lawful only if and to the extent that processing is necessary for compliance with a legal obligation to which the controller is subject  \n",
       "0                                                                              Processing shall be lawful only if and to the extent that processing is necessary in order to protect the vital interests of the data subject or of another natural person  \n",
       "0                                   Processing shall be lawful only if and to the extent that processing is necessary for the performance of a task carried out in the public interest or in the exercise of official authority vested in the controller   "
      ]
     },
     "execution_count": 21,
     "metadata": {},
     "output_type": "execute_result"
    }
   ],
   "source": [
    "df_new = df_new.drop(['reg_text','reg_text_cleaned_2'], axis=1)\n",
    "df_new.head()"
   ]
  },
  {
   "cell_type": "code",
   "execution_count": 22,
   "metadata": {},
   "outputs": [],
   "source": [
    "def keep_only_signalword_sentences(text):\n",
    "    '''splits the paragaraphs into sentences, only keeping those sentences that contain at least one signalword; \n",
    "    output: df with one sentence per row only sent containing signalword'''\n",
    "    doc = nlp(text) \n",
    "    i = 0\n",
    "    for token in doc: \n",
    "        if (token.text in signalwords):\n",
    "            i = 1\n",
    "            break\n",
    "        else:\n",
    "            continue\n",
    "    return i"
   ]
  },
  {
   "cell_type": "code",
   "execution_count": 23,
   "metadata": {},
   "outputs": [],
   "source": [
    "df_new['contains_signalword'] = df_new.apply(lambda row : keep_only_signalword_sentences(row['reg_sent']), axis = 1)"
   ]
  },
  {
   "cell_type": "code",
   "execution_count": 24,
   "metadata": {},
   "outputs": [],
   "source": [
    "df_new = df_new[df_new.contains_signalword != 0]\n",
    "df_new = df_new.drop(['contains_signalword'], axis=1)\n"
   ]
  },
  {
   "cell_type": "code",
   "execution_count": 25,
   "metadata": {},
   "outputs": [],
   "source": [
    "# extract sent keyphrase with RAKE\n",
    "import pandas as pd\n",
    "from rake_nltk import Rake\n",
    "import re\n",
    "import os"
   ]
  },
  {
   "cell_type": "code",
   "execution_count": 26,
   "metadata": {},
   "outputs": [],
   "source": [
    "def RAKE_Keyword_Extraction(text, stop_word_path, threshold):\n",
    "\n",
    "    # our extracted keywords, min 1, max 5.\n",
    "    keywords = []\n",
    "    phrases = []\n",
    "    phrases1 = []\n",
    "    phrases2 = []\n",
    "    max_len = 5\n",
    "    min_len = 1\n",
    "    # uncustomized stopwordlist\n",
    "    stop_words = []\n",
    "    with open(stop_word_path, 'r') as f:\n",
    "        for w in f.readlines():\n",
    "            stop_words.append(w.strip())\n",
    "        f.close()\n",
    "    # initialize the Rake keyword extractor\n",
    "    r = Rake(stopwords=stop_words, max_length=max_len, min_length=min_len)\n",
    "    #text = re.sub('[^a-zA-Z]', ' ', text)\n",
    "    r.extract_keywords_from_sentences([text])\n",
    "    # rank the extracted keywords\n",
    "    phrases = r.get_ranked_phrases_with_scores()\n",
    "    # exclude keywords, with scores lower than the threshold\n",
    "    phrases2.extend([p[1] for p in phrases if len(p[1]) > 1 and p[0] > threshold and p[1] not in phrases2])\n",
    "    if len(phrases2) >= 5:  # maximal 5 keywords\n",
    "        keywords.append(phrases2[:5])\n",
    "    elif 0 < len(phrases2) < 5:  # take the rest\n",
    "        keywords.append(phrases2)\n",
    "    else:\n",
    "        phrases1 = r.get_ranked_phrases()\n",
    "        if len(phrases) >= 5:\n",
    "            keywords.append(phrases1[:5])\n",
    "        else:\n",
    "            keywords.append(phrases1)\n",
    "    keyword_list = ' '.join(map(str, keywords))\n",
    "    return keyword_list"
   ]
  },
  {
   "cell_type": "code",
   "execution_count": 27,
   "metadata": {},
   "outputs": [
    {
     "data": {
      "text/html": [
       "<div>\n",
       "<style scoped>\n",
       "    .dataframe tbody tr th:only-of-type {\n",
       "        vertical-align: middle;\n",
       "    }\n",
       "\n",
       "    .dataframe tbody tr th {\n",
       "        vertical-align: top;\n",
       "    }\n",
       "\n",
       "    .dataframe thead th {\n",
       "        text-align: right;\n",
       "    }\n",
       "</style>\n",
       "<table border=\"1\" class=\"dataframe\">\n",
       "  <thead>\n",
       "    <tr style=\"text-align: right;\">\n",
       "      <th></th>\n",
       "      <th>reg_title</th>\n",
       "      <th>reg_sent</th>\n",
       "      <th>keywords_sent</th>\n",
       "    </tr>\n",
       "  </thead>\n",
       "  <tbody>\n",
       "    <tr>\n",
       "      <th>0</th>\n",
       "      <td>Lawfulness of processing</td>\n",
       "      <td>Processing shall be lawful only if and to the extent that the data subject has given consent to the processing of subject or her personal data for one or more specific purposes</td>\n",
       "      <td>['specific purposes', 'personal data', 'given consent', 'data subject']</td>\n",
       "    </tr>\n",
       "    <tr>\n",
       "      <th>0</th>\n",
       "      <td>Lawfulness of processing</td>\n",
       "      <td>Processing shall be lawful only if and to the extent that processing is necessary for the performance of a contract to which the data subject is party or in order to take steps at the request of the data subject prior to entering into a contract</td>\n",
       "      <td>['data subject prior', 'data subject', 'take steps']</td>\n",
       "    </tr>\n",
       "    <tr>\n",
       "      <th>0</th>\n",
       "      <td>Lawfulness of processing</td>\n",
       "      <td>Processing shall be lawful only if and to the extent that processing is necessary for compliance with a legal obligation to which the controller is subject</td>\n",
       "      <td>['legal obligation']</td>\n",
       "    </tr>\n",
       "    <tr>\n",
       "      <th>0</th>\n",
       "      <td>Lawfulness of processing</td>\n",
       "      <td>Processing shall be lawful only if and to the extent that processing is necessary in order to protect the vital interests of the data subject or of another natural person</td>\n",
       "      <td>['another natural person', 'vital interests', 'data subject']</td>\n",
       "    </tr>\n",
       "    <tr>\n",
       "      <th>0</th>\n",
       "      <td>Lawfulness of processing</td>\n",
       "      <td>Processing shall be lawful only if and to the extent that processing is necessary for the performance of a task carried out in the public interest or in the exercise of official authority vested in the controller</td>\n",
       "      <td>['official authority vested', 'task carried', 'public interest']</td>\n",
       "    </tr>\n",
       "  </tbody>\n",
       "</table>\n",
       "</div>"
      ],
      "text/plain": [
       "                  reg_title  \\\n",
       "0  Lawfulness of processing   \n",
       "0  Lawfulness of processing   \n",
       "0  Lawfulness of processing   \n",
       "0  Lawfulness of processing   \n",
       "0  Lawfulness of processing   \n",
       "\n",
       "                                                                                                                                                                                                                                                 reg_sent  \\\n",
       "0                                                                        Processing shall be lawful only if and to the extent that the data subject has given consent to the processing of subject or her personal data for one or more specific purposes   \n",
       "0   Processing shall be lawful only if and to the extent that processing is necessary for the performance of a contract to which the data subject is party or in order to take steps at the request of the data subject prior to entering into a contract   \n",
       "0                                                                                             Processing shall be lawful only if and to the extent that processing is necessary for compliance with a legal obligation to which the controller is subject   \n",
       "0                                                                              Processing shall be lawful only if and to the extent that processing is necessary in order to protect the vital interests of the data subject or of another natural person   \n",
       "0                                   Processing shall be lawful only if and to the extent that processing is necessary for the performance of a task carried out in the public interest or in the exercise of official authority vested in the controller    \n",
       "\n",
       "                                                             keywords_sent  \n",
       "0  ['specific purposes', 'personal data', 'given consent', 'data subject']  \n",
       "0                     ['data subject prior', 'data subject', 'take steps']  \n",
       "0                                                     ['legal obligation']  \n",
       "0            ['another natural person', 'vital interests', 'data subject']  \n",
       "0         ['official authority vested', 'task carried', 'public interest']  "
      ]
     },
     "execution_count": 27,
     "metadata": {},
     "output_type": "execute_result"
    }
   ],
   "source": [
    "#output of function = one concated keyword string\n",
    "df_new['keywords_sent'] = df_new.apply(lambda row : RAKE_Keyword_Extraction(row['reg_sent'], GDPR_STOPWORDS_RAKE, 3), axis = 1)\n",
    "df_new.head()"
   ]
  },
  {
   "cell_type": "code",
   "execution_count": 28,
   "metadata": {},
   "outputs": [
    {
     "data": {
      "text/html": [
       "<div>\n",
       "<style scoped>\n",
       "    .dataframe tbody tr th:only-of-type {\n",
       "        vertical-align: middle;\n",
       "    }\n",
       "\n",
       "    .dataframe tbody tr th {\n",
       "        vertical-align: top;\n",
       "    }\n",
       "\n",
       "    .dataframe thead th {\n",
       "        text-align: right;\n",
       "    }\n",
       "</style>\n",
       "<table border=\"1\" class=\"dataframe\">\n",
       "  <thead>\n",
       "    <tr style=\"text-align: right;\">\n",
       "      <th></th>\n",
       "      <th>reg_title</th>\n",
       "      <th>reg_sent</th>\n",
       "      <th>keywords_sent</th>\n",
       "      <th>keywords_title</th>\n",
       "    </tr>\n",
       "  </thead>\n",
       "  <tbody>\n",
       "    <tr>\n",
       "      <th>0</th>\n",
       "      <td>Lawfulness of processing</td>\n",
       "      <td>Processing shall be lawful only if and to the extent that the data subject has given consent to the processing of subject or her personal data for one or more specific purposes</td>\n",
       "      <td>['specific purposes', 'personal data', 'given consent', 'data subject']</td>\n",
       "      <td>['processing', 'lawfulness']</td>\n",
       "    </tr>\n",
       "    <tr>\n",
       "      <th>0</th>\n",
       "      <td>Lawfulness of processing</td>\n",
       "      <td>Processing shall be lawful only if and to the extent that processing is necessary for the performance of a contract to which the data subject is party or in order to take steps at the request of the data subject prior to entering into a contract</td>\n",
       "      <td>['data subject prior', 'data subject', 'take steps']</td>\n",
       "      <td>['processing', 'lawfulness']</td>\n",
       "    </tr>\n",
       "    <tr>\n",
       "      <th>0</th>\n",
       "      <td>Lawfulness of processing</td>\n",
       "      <td>Processing shall be lawful only if and to the extent that processing is necessary for compliance with a legal obligation to which the controller is subject</td>\n",
       "      <td>['legal obligation']</td>\n",
       "      <td>['processing', 'lawfulness']</td>\n",
       "    </tr>\n",
       "    <tr>\n",
       "      <th>0</th>\n",
       "      <td>Lawfulness of processing</td>\n",
       "      <td>Processing shall be lawful only if and to the extent that processing is necessary in order to protect the vital interests of the data subject or of another natural person</td>\n",
       "      <td>['another natural person', 'vital interests', 'data subject']</td>\n",
       "      <td>['processing', 'lawfulness']</td>\n",
       "    </tr>\n",
       "    <tr>\n",
       "      <th>0</th>\n",
       "      <td>Lawfulness of processing</td>\n",
       "      <td>Processing shall be lawful only if and to the extent that processing is necessary for the performance of a task carried out in the public interest or in the exercise of official authority vested in the controller</td>\n",
       "      <td>['official authority vested', 'task carried', 'public interest']</td>\n",
       "      <td>['processing', 'lawfulness']</td>\n",
       "    </tr>\n",
       "  </tbody>\n",
       "</table>\n",
       "</div>"
      ],
      "text/plain": [
       "                  reg_title  \\\n",
       "0  Lawfulness of processing   \n",
       "0  Lawfulness of processing   \n",
       "0  Lawfulness of processing   \n",
       "0  Lawfulness of processing   \n",
       "0  Lawfulness of processing   \n",
       "\n",
       "                                                                                                                                                                                                                                                 reg_sent  \\\n",
       "0                                                                        Processing shall be lawful only if and to the extent that the data subject has given consent to the processing of subject or her personal data for one or more specific purposes   \n",
       "0   Processing shall be lawful only if and to the extent that processing is necessary for the performance of a contract to which the data subject is party or in order to take steps at the request of the data subject prior to entering into a contract   \n",
       "0                                                                                             Processing shall be lawful only if and to the extent that processing is necessary for compliance with a legal obligation to which the controller is subject   \n",
       "0                                                                              Processing shall be lawful only if and to the extent that processing is necessary in order to protect the vital interests of the data subject or of another natural person   \n",
       "0                                   Processing shall be lawful only if and to the extent that processing is necessary for the performance of a task carried out in the public interest or in the exercise of official authority vested in the controller    \n",
       "\n",
       "                                                             keywords_sent  \\\n",
       "0  ['specific purposes', 'personal data', 'given consent', 'data subject']   \n",
       "0                     ['data subject prior', 'data subject', 'take steps']   \n",
       "0                                                     ['legal obligation']   \n",
       "0            ['another natural person', 'vital interests', 'data subject']   \n",
       "0         ['official authority vested', 'task carried', 'public interest']   \n",
       "\n",
       "                 keywords_title  \n",
       "0  ['processing', 'lawfulness']  \n",
       "0  ['processing', 'lawfulness']  \n",
       "0  ['processing', 'lawfulness']  \n",
       "0  ['processing', 'lawfulness']  \n",
       "0  ['processing', 'lawfulness']  "
      ]
     },
     "execution_count": 28,
     "metadata": {},
     "output_type": "execute_result"
    }
   ],
   "source": [
    "df_new['keywords_title'] = df_new.apply(lambda row : RAKE_Keyword_Extraction(row['reg_title'], GDPR_STOPWORDS_RAKE, 3), axis = 1)\n",
    "df_new.head()"
   ]
  },
  {
   "cell_type": "code",
   "execution_count": 63,
   "metadata": {},
   "outputs": [],
   "source": [
    "def join_keywords(a,b):\n",
    "    string = re.sub(r'[^\\w\\s]','',a)\n",
    "    string2 = re.sub(r'[^\\w\\s]','',b)\n",
    "    c = string + \" \" + string2\n",
    "    return c"
   ]
  },
  {
   "cell_type": "code",
   "execution_count": 64,
   "metadata": {},
   "outputs": [
    {
     "data": {
      "text/html": [
       "<div>\n",
       "<style scoped>\n",
       "    .dataframe tbody tr th:only-of-type {\n",
       "        vertical-align: middle;\n",
       "    }\n",
       "\n",
       "    .dataframe tbody tr th {\n",
       "        vertical-align: top;\n",
       "    }\n",
       "\n",
       "    .dataframe thead th {\n",
       "        text-align: right;\n",
       "    }\n",
       "</style>\n",
       "<table border=\"1\" class=\"dataframe\">\n",
       "  <thead>\n",
       "    <tr style=\"text-align: right;\">\n",
       "      <th></th>\n",
       "      <th>reg_title</th>\n",
       "      <th>reg_sent</th>\n",
       "      <th>keywords_sent</th>\n",
       "      <th>keywords_title</th>\n",
       "      <th>reg_kw_total</th>\n",
       "    </tr>\n",
       "  </thead>\n",
       "  <tbody>\n",
       "    <tr>\n",
       "      <th>0</th>\n",
       "      <td>Lawfulness of processing</td>\n",
       "      <td>Processing shall be lawful only if and to the extent that the data subject has given consent to the processing of subject or her personal data for one or more specific purposes</td>\n",
       "      <td>['specific purposes', 'personal data', 'given consent', 'data subject']</td>\n",
       "      <td>['processing', 'lawfulness']</td>\n",
       "      <td>specific purposes personal data given consent data subject processing lawfulness</td>\n",
       "    </tr>\n",
       "    <tr>\n",
       "      <th>0</th>\n",
       "      <td>Lawfulness of processing</td>\n",
       "      <td>Processing shall be lawful only if and to the extent that processing is necessary for the performance of a contract to which the data subject is party or in order to take steps at the request of the data subject prior to entering into a contract</td>\n",
       "      <td>['data subject prior', 'data subject', 'take steps']</td>\n",
       "      <td>['processing', 'lawfulness']</td>\n",
       "      <td>data subject prior data subject take steps processing lawfulness</td>\n",
       "    </tr>\n",
       "    <tr>\n",
       "      <th>0</th>\n",
       "      <td>Lawfulness of processing</td>\n",
       "      <td>Processing shall be lawful only if and to the extent that processing is necessary for compliance with a legal obligation to which the controller is subject</td>\n",
       "      <td>['legal obligation']</td>\n",
       "      <td>['processing', 'lawfulness']</td>\n",
       "      <td>legal obligation processing lawfulness</td>\n",
       "    </tr>\n",
       "    <tr>\n",
       "      <th>0</th>\n",
       "      <td>Lawfulness of processing</td>\n",
       "      <td>Processing shall be lawful only if and to the extent that processing is necessary in order to protect the vital interests of the data subject or of another natural person</td>\n",
       "      <td>['another natural person', 'vital interests', 'data subject']</td>\n",
       "      <td>['processing', 'lawfulness']</td>\n",
       "      <td>another natural person vital interests data subject processing lawfulness</td>\n",
       "    </tr>\n",
       "    <tr>\n",
       "      <th>0</th>\n",
       "      <td>Lawfulness of processing</td>\n",
       "      <td>Processing shall be lawful only if and to the extent that processing is necessary for the performance of a task carried out in the public interest or in the exercise of official authority vested in the controller</td>\n",
       "      <td>['official authority vested', 'task carried', 'public interest']</td>\n",
       "      <td>['processing', 'lawfulness']</td>\n",
       "      <td>official authority vested task carried public interest processing lawfulness</td>\n",
       "    </tr>\n",
       "  </tbody>\n",
       "</table>\n",
       "</div>"
      ],
      "text/plain": [
       "                  reg_title  \\\n",
       "0  Lawfulness of processing   \n",
       "0  Lawfulness of processing   \n",
       "0  Lawfulness of processing   \n",
       "0  Lawfulness of processing   \n",
       "0  Lawfulness of processing   \n",
       "\n",
       "                                                                                                                                                                                                                                                 reg_sent  \\\n",
       "0                                                                        Processing shall be lawful only if and to the extent that the data subject has given consent to the processing of subject or her personal data for one or more specific purposes   \n",
       "0   Processing shall be lawful only if and to the extent that processing is necessary for the performance of a contract to which the data subject is party or in order to take steps at the request of the data subject prior to entering into a contract   \n",
       "0                                                                                             Processing shall be lawful only if and to the extent that processing is necessary for compliance with a legal obligation to which the controller is subject   \n",
       "0                                                                              Processing shall be lawful only if and to the extent that processing is necessary in order to protect the vital interests of the data subject or of another natural person   \n",
       "0                                   Processing shall be lawful only if and to the extent that processing is necessary for the performance of a task carried out in the public interest or in the exercise of official authority vested in the controller    \n",
       "\n",
       "                                                             keywords_sent  \\\n",
       "0  ['specific purposes', 'personal data', 'given consent', 'data subject']   \n",
       "0                     ['data subject prior', 'data subject', 'take steps']   \n",
       "0                                                     ['legal obligation']   \n",
       "0            ['another natural person', 'vital interests', 'data subject']   \n",
       "0         ['official authority vested', 'task carried', 'public interest']   \n",
       "\n",
       "                 keywords_title  \\\n",
       "0  ['processing', 'lawfulness']   \n",
       "0  ['processing', 'lawfulness']   \n",
       "0  ['processing', 'lawfulness']   \n",
       "0  ['processing', 'lawfulness']   \n",
       "0  ['processing', 'lawfulness']   \n",
       "\n",
       "                                                                       reg_kw_total  \n",
       "0  specific purposes personal data given consent data subject processing lawfulness  \n",
       "0                  data subject prior data subject take steps processing lawfulness  \n",
       "0                                            legal obligation processing lawfulness  \n",
       "0         another natural person vital interests data subject processing lawfulness  \n",
       "0      official authority vested task carried public interest processing lawfulness  "
      ]
     },
     "execution_count": 64,
     "metadata": {},
     "output_type": "execute_result"
    }
   ],
   "source": [
    "import re\n",
    "df_new['reg_kw_total'] = df_new.apply(lambda row : join_keywords(row['keywords_sent'], row['keywords_title']), axis =1)\n",
    "df_new.head()"
   ]
  },
  {
   "cell_type": "code",
   "execution_count": null,
   "metadata": {},
   "outputs": [],
   "source": [
    "# save preprocessed reg to excel\n",
    "pd.DataFrame(df_new).to_excel(join(INTERMEDIATE_DIRECTORY, \"gdpr_reg_preprocessed_optiona.xlsx\"))  "
   ]
  },
  {
   "cell_type": "code",
   "execution_count": null,
   "metadata": {},
   "outputs": [],
   "source": []
  },
  {
   "cell_type": "code",
   "execution_count": 7,
   "metadata": {},
   "outputs": [
    {
     "name": "stdout",
     "output_type": "stream",
     "text": [
      "similarity:  0.4216370213557839\n"
     ]
    }
   ],
   "source": [
    "# Alternative - direct sim with nltk (idea refere to: https://www.geeksforgeeks.org/python-measure-similarity-between-two-sentences-using-cosine-similarity/)\n",
    "\n",
    "# Program to measure the similarity between two sentences using cosine similarity.\n",
    "from nltk.corpus import stopwords\n",
    "from nltk.tokenize import word_tokenize\n",
    "\n",
    "X = \"specific purposes personal data given consent data subject processing lawfulness\"\n",
    "#X =\"Processing shall be lawful only if and to the extent that the data subject has given consent to the processing of consent or her personal data for one or more specific purposes.\"\n",
    "Y =\"processing permitted data subject express consent asserting defending legal claims\"\n",
    "#Y =\"Processing of such data by the company may be permitted in particular if the data subject has given the data subject express consent, if Processing of such data by the company is necessary for asserting, exercising or defending legal claims with respect to the data subject or if processing is necessary for the controller to fulfill the controller rights and responsibilities in the area of labor and employment law.\"\n",
    "  \n",
    "# tokenization\n",
    "X_list = word_tokenize(X) \n",
    "Y_list = word_tokenize(Y)\n",
    "  \n",
    "# sw contains the list of stopwords\n",
    "sw = stopwords.words('english') \n",
    "l1 =[];l2 =[]\n",
    "  \n",
    "# remove stop words from the string\n",
    "X_set = {w for w in X_list if not w in sw} \n",
    "Y_set = {w for w in Y_list if not w in sw}\n",
    "  \n",
    "# form a set containing keywords of both strings \n",
    "rvector = X_set.union(Y_set) \n",
    "for w in rvector:\n",
    "    if w in X_set: l1.append(1) # create a vector\n",
    "    else: l1.append(0)\n",
    "    if w in Y_set: l2.append(1)\n",
    "    else: l2.append(0)\n",
    "c = 0\n",
    "  \n",
    "# cosine formula \n",
    "for i in range(len(rvector)):\n",
    "        c+= l1[i]*l2[i]\n",
    "cosine = c / float((sum(l1)*sum(l2))**0.5)\n",
    "print(\"similarity: \", cosine)"
   ]
  },
  {
   "cell_type": "code",
   "execution_count": null,
   "metadata": {},
   "outputs": [],
   "source": []
  },
  {
   "cell_type": "code",
   "execution_count": null,
   "metadata": {},
   "outputs": [],
   "source": []
  },
  {
   "cell_type": "code",
   "execution_count": null,
   "metadata": {},
   "outputs": [],
   "source": [
    "# check if embedding of \"specific purposes\" possible\n",
    "# check if sim to apple would be same as sim of specific and purposes "
   ]
  },
  {
   "cell_type": "code",
   "execution_count": null,
   "metadata": {},
   "outputs": [],
   "source": []
  },
  {
   "cell_type": "code",
   "execution_count": null,
   "metadata": {},
   "outputs": [],
   "source": []
  },
  {
   "cell_type": "code",
   "execution_count": null,
   "metadata": {},
   "outputs": [],
   "source": [
    "# apply to rea\n",
    "\n",
    "# calculate sim with word2vec?\n",
    "\n",
    "# prepare 2-4 more Data protection policies?"
   ]
  },
  {
   "cell_type": "code",
   "execution_count": null,
   "metadata": {},
   "outputs": [],
   "source": []
  },
  {
   "cell_type": "code",
   "execution_count": null,
   "metadata": {},
   "outputs": [],
   "source": []
  },
  {
   "cell_type": "code",
   "execution_count": null,
   "metadata": {},
   "outputs": [],
   "source": []
  },
  {
   "cell_type": "code",
   "execution_count": null,
   "metadata": {},
   "outputs": [],
   "source": [
    "nlp.add_pipe(\"merge_entities\")"
   ]
  },
  {
   "cell_type": "code",
   "execution_count": null,
   "metadata": {},
   "outputs": [],
   "source": [
    "# concat title + key phrase "
   ]
  },
  {
   "cell_type": "code",
   "execution_count": null,
   "metadata": {},
   "outputs": [],
   "source": [
    "# apply everything for rea (incl. specific word change)"
   ]
  },
  {
   "cell_type": "code",
   "execution_count": null,
   "metadata": {},
   "outputs": [],
   "source": [
    "if rea:\n",
    "    \n",
    "def substitude_specific_realization_formulations(self):\n",
    "    '''replaces realization specific words with a general term from regulation\n",
    "    like \"Group Company\" with \"controller\"'''\n",
    "    for para in self.cleaned_paragraphs_list5:\n",
    "        new_para = para\n",
    "        for item in self.management_words:\n",
    "            new_para = new_para.replace(item, 'management')\n",
    "        self.cleaned_paragraphs_list6.append(new_para)\n",
    "    for para in self.cleaned_paragraphs_list6:\n",
    "        new_para = para\n",
    "        for item in self.data_protection_officer_words:\n",
    "            new_para = new_para.replace(item, 'data protection officer')\n",
    "        self.cleaned_paragraphs_list7.append(new_para)\n",
    "    for para in self.cleaned_paragraphs_list7:\n",
    "        new_para = para\n",
    "        for item in self.controller_words:\n",
    "            new_para = new_para.replace(item, 'controller')\n",
    "        self.cleaned_paragraphs_list8.append(new_para)"
   ]
  },
  {
   "cell_type": "code",
   "execution_count": null,
   "metadata": {},
   "outputs": [],
   "source": [
    "# calculate # reg sent and # rea sent\n",
    "\n",
    "# calculate sim between newly generated key phrases\n",
    "\n",
    "# ordne jedem reg sent die rea sent zu, wo die key phrases am ähnlichsten sind? "
   ]
  },
  {
   "cell_type": "code",
   "execution_count": null,
   "metadata": {},
   "outputs": [],
   "source": []
  }
 ],
 "metadata": {
  "interpreter": {
   "hash": "a3137e28e43fd5d9992b21370c454201c5eb312e2c7ea09faaf42444f73a42dc"
  },
  "kernelspec": {
   "display_name": "Python 3.10.7 ('.text2text_python_310_venv': venv)",
   "language": "python",
   "name": "python3"
  },
  "language_info": {
   "codemirror_mode": {
    "name": "ipython",
    "version": 3
   },
   "file_extension": ".py",
   "mimetype": "text/x-python",
   "name": "python",
   "nbconvert_exporter": "python",
   "pygments_lexer": "ipython3",
   "version": "3.10.7"
  },
  "orig_nbformat": 4
 },
 "nbformat": 4,
 "nbformat_minor": 2
}
